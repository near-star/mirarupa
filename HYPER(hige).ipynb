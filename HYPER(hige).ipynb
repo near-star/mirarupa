{
  "nbformat": 4,
  "nbformat_minor": 0,
  "metadata": {
    "colab": {
      "provenance": [],
      "authorship_tag": "ABX9TyNHzbtvDERKQEgoCyDMm02z",
      "include_colab_link": true
    },
    "kernelspec": {
      "name": "python3",
      "display_name": "Python 3"
    },
    "language_info": {
      "name": "python"
    }
  },
  "cells": [
    {
      "cell_type": "markdown",
      "metadata": {
        "id": "view-in-github",
        "colab_type": "text"
      },
      "source": [
        "<a href=\"https://colab.research.google.com/github/near-star/mirarupa/blob/main/HYPER(hige).ipynb\" target=\"_parent\"><img src=\"https://colab.research.google.com/assets/colab-badge.svg\" alt=\"Open In Colab\"/></a>"
      ]
    },
    {
      "cell_type": "code",
      "source": [
        "from IPython import get_ipython\n",
        "from IPython.display import display"
      ],
      "metadata": {
        "id": "a4ZSdfKH0QEs"
      },
      "execution_count": null,
      "outputs": []
    },
    {
      "cell_type": "code",
      "source": [
        "pip install hyperliquid-python-sdk"
      ],
      "metadata": {
        "id": "c1-g_JEcOrUb"
      },
      "execution_count": null,
      "outputs": []
    },
    {
      "cell_type": "code",
      "source": [
        "pip install eth_account"
      ],
      "metadata": {
        "id": "T-G19aDCOyDD"
      },
      "execution_count": null,
      "outputs": []
    },
    {
      "cell_type": "code",
      "source": [
        "import json\n",
        "\n",
        "import example_utils\n",
        "\n",
        "from hyperliquid.utils import constants\n",
        "\n",
        "PURR = \"PURR/USDC\"\n",
        "OTHER_COIN = \"@8\"\n",
        "OTHER_COIN_NAME = \"KORILA/USDC\"\n",
        "\n",
        "\n",
        "def main():\n",
        "    address, info, exchange = example_utils.setup(base_url=constants.TESTNET_API_URL, skip_ws=True)\n",
        "\n",
        "    # Get the user state and print out position information\n",
        "    spot_user_state = info.spot_user_state(address)\n",
        "    if len(spot_user_state[\"balances\"]) > 0:\n",
        "        print(\"spot balances:\")\n",
        "        for balance in spot_user_state[\"balances\"]:\n",
        "            print(json.dumps(balance, indent=2))\n",
        "    else:\n",
        "        print(\"no available token balances\")\n",
        "\n",
        "    # Place an order that should rest by setting the price very low\n",
        "    order_result = exchange.order(PURR, True, 24, 0.5, {\"limit\": {\"tif\": \"Gtc\"}})\n",
        "    print(order_result)\n",
        "\n",
        "    # Query the order status by oid\n",
        "    if order_result[\"status\"] == \"ok\":\n",
        "        status = order_result[\"response\"][\"data\"][\"statuses\"][0]\n",
        "        if \"resting\" in status:\n",
        "            order_status = info.query_order_by_oid(address, status[\"resting\"][\"oid\"])\n",
        "            print(\"Order status by oid:\", order_status)\n",
        "\n",
        "    # Cancel the order\n",
        "    if order_result[\"status\"] == \"ok\":\n",
        "        status = order_result[\"response\"][\"data\"][\"statuses\"][0]\n",
        "        if \"resting\" in status:\n",
        "            cancel_result = exchange.cancel(PURR, status[\"resting\"][\"oid\"])\n",
        "            print(cancel_result)\n",
        "\n",
        "    # For other spot assets other than PURR/USDC use @{index} e.g. on testnet @8 is KORILA/USDC\n",
        "    order_result = exchange.order(OTHER_COIN, True, 1, 12, {\"limit\": {\"tif\": \"Gtc\"}})\n",
        "    print(order_result)\n",
        "    if order_result[\"status\"] == \"ok\":\n",
        "        status = order_result[\"response\"][\"data\"][\"statuses\"][0]\n",
        "        if \"resting\" in status:\n",
        "            # The sdk now also support using spot names, although be careful as they might not always be unique\n",
        "            cancel_result = exchange.cancel(OTHER_COIN_NAME, status[\"resting\"][\"oid\"])\n",
        "            print(cancel_result)\n",
        "\n",
        "\n",
        "if __name__ == \"__main__\":\n",
        "    main()"
      ],
      "metadata": {
        "id": "O1KndBjyPgzD"
      },
      "execution_count": null,
      "outputs": []
    }
  ]
}